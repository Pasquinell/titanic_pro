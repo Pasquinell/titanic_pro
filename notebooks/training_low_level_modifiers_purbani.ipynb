{
 "cells": [
  {
   "cell_type": "code",
   "execution_count": 1,
   "id": "4fd21772",
   "metadata": {},
   "outputs": [],
   "source": [
    "import sys\n",
    "sys.path.append('../')"
   ]
  },
  {
   "cell_type": "markdown",
   "id": "9b0ee811",
   "metadata": {},
   "source": [
    "```\n",
    "training.py -> titanic_pro/pipeline.pipeline      -> titanic_pro/model.xgb_model \n",
    "                                                  -> titanic_pro/custom_transformers.AgeImputer\n",
    "                                                  -> config\n",
    "            -> titanic_pro/train_utils.tune_model -> titanic_pro/pipeline.pipeline -> the rest (as above)\n",
    "```"
   ]
  },
  {
   "cell_type": "markdown",
   "id": "85855ef6",
   "metadata": {},
   "source": [
    "## titanic_pro/custom_transformers.py"
   ]
  },
  {
   "cell_type": "code",
   "execution_count": 2,
   "id": "2c49f594",
   "metadata": {},
   "outputs": [],
   "source": [
    "import numpy as np\n",
    "from sklearn.base import BaseEstimator, TransformerMixin\n",
    "\n",
    "\n",
    "class AgeImputer(BaseEstimator, TransformerMixin):\n",
    "    def fit(self, X, y=None):\n",
    "        return self\n",
    "\n",
    "    def transform(self, X):\n",
    "        age_filled = X.copy()\n",
    "        age_filled[\"age\"].fillna(age_filled[\"age\"].median(), inplace=True)\n",
    "        return age_filled"
   ]
  },
  {
   "cell_type": "markdown",
   "id": "89751da1",
   "metadata": {},
   "source": [
    "## titanic_pro/pipeline.py"
   ]
  },
  {
   "cell_type": "code",
   "execution_count": 3,
   "id": "680640b6",
   "metadata": {},
   "outputs": [],
   "source": [
    "import logging\n",
    "from sklearn.compose import ColumnTransformer\n",
    "from sklearn.pipeline import Pipeline\n",
    "from sklearn.preprocessing import StandardScaler, OneHotEncoder\n",
    "from sklearn.impute import SimpleImputer\n",
    "from titanic_pro.model import xgb_model\n",
    "from titanic_pro.config import LOG_FORMAT\n",
    "# Custom transformer\n",
    "#from titanic_pro.custom_transformers import AgeImputer\n",
    "\n",
    "numeric_features = [\"fare\"]\n",
    "numeric_transformer = Pipeline(\n",
    "    steps=[(\"imputer\", SimpleImputer(strategy=\"median\")), (\"scaler\", StandardScaler())]\n",
    ")\n",
    "\n",
    "categorical_features = [\"embarked\", \"sex\", \"pclass\"]\n",
    "categorical_transformer = Pipeline(\n",
    "    steps=[\n",
    "        (\"imputer\", SimpleImputer(strategy=\"constant\", fill_value=\"missing\")),\n",
    "        (\"onehot\", OneHotEncoder(handle_unknown=\"ignore\")),\n",
    "    ]\n",
    ")\n",
    "\n",
    "preprocessor = ColumnTransformer(\n",
    "    transformers=[\n",
    "        (\"num\", numeric_transformer, numeric_features),\n",
    "        (\"cat\", categorical_transformer, categorical_features),\n",
    "        (\"age\", AgeImputer(), [\"age\"]),\n",
    "    ]\n",
    ")\n",
    "\n",
    "pipeline = Pipeline(steps=[(\"preprocessor\", preprocessor), (\"classifier\", xgb_model)])\n",
    "\n",
    "logging.basicConfig(level=logging.INFO, format=LOG_FORMAT)\n",
    "logger = logging.getLogger(__name__)\n"
   ]
  },
  {
   "cell_type": "markdown",
   "id": "0167660e",
   "metadata": {},
   "source": [
    "## titanic_pro/train_utils.py"
   ]
  },
  {
   "cell_type": "code",
   "execution_count": 4,
   "id": "bdaf7ec7",
   "metadata": {},
   "outputs": [],
   "source": [
    "from sklearn.model_selection import GridSearchCV\n",
    "#from titanic_pro.pipeline import pipeline\n",
    "\n",
    "\n",
    "def tune_model(X, y):\n",
    "    grid_search_params = {\n",
    "        \"classifier__learning_rate\": [0.01, 0.1, 0.2],\n",
    "        \"classifier__max_depth\": [3, 5, 7],\n",
    "        \"classifier__n_estimators\": [50, 100, 200],\n",
    "    }\n",
    "\n",
    "    grid_search = GridSearchCV(\n",
    "        pipeline,\n",
    "        param_grid=grid_search_params,\n",
    "        scoring=\"accuracy\",\n",
    "        cv=5,\n",
    "        verbose=1,\n",
    "        n_jobs=-1,\n",
    "    )\n",
    "\n",
    "    grid_search.fit(X, y)\n",
    "    best_params = grid_search.best_params_\n",
    "    best_score = grid_search.best_score_\n",
    "\n",
    "    return best_params, best_score\n"
   ]
  },
  {
   "cell_type": "markdown",
   "id": "4cef5aac",
   "metadata": {},
   "source": [
    "## train.py"
   ]
  },
  {
   "cell_type": "code",
   "execution_count": 5,
   "id": "0ecccb3b",
   "metadata": {},
   "outputs": [
    {
     "name": "stderr",
     "output_type": "stream",
     "text": [
      "2023-04-08 13:19:16,812 - INFO - Loading data...\n",
      "2023-04-08 13:19:16,827 - INFO - ['pclass', 'survived', 'name', 'sex', 'age', 'sibsp', 'parch', 'ticket', 'fare', 'cabin', 'embarked', 'boat', 'body', 'home.dest']\n",
      "2023-04-08 13:19:16,829 - INFO - Splitting data into train and validation sets...\n",
      "2023-04-08 13:19:16,829 - INFO - Tuning model...\n"
     ]
    },
    {
     "name": "stdout",
     "output_type": "stream",
     "text": [
      "Fitting 5 folds for each of 27 candidates, totalling 135 fits\n"
     ]
    },
    {
     "name": "stderr",
     "output_type": "stream",
     "text": [
      "2023-04-08 13:19:21,551 - INFO - Best parameters: {'classifier__learning_rate': 0.01, 'classifier__max_depth': 3, 'classifier__n_estimators': 100}\n",
      "2023-04-08 13:19:21,551 - INFO - Best score: 0.8237982663514579\n",
      "2023-04-08 13:19:21,551 - INFO - Training the model with the best parameters...\n",
      "2023-04-08 13:19:21,632 - INFO - Evaluating the model on the validation set...\n",
      "2023-04-08 13:19:21,646 - INFO - Validation accuracy: 0.7966101694915254\n",
      "2023-04-08 13:19:21,646 - INFO - Saving the model...\n"
     ]
    },
    {
     "data": {
      "text/plain": [
       "['model2.joblib']"
      ]
     },
     "execution_count": 5,
     "metadata": {},
     "output_type": "execute_result"
    }
   ],
   "source": [
    "import logging\n",
    "import pandas as pd\n",
    "#from titanic_pro.pipeline import pipeline, logger \n",
    "#from titanic_pro.train_utils import tune_model\n",
    "from titanic_pro.utils import load_data\n",
    "from sklearn.model_selection import train_test_split\n",
    "from joblib import dump\n",
    "\n",
    "logger.info(\"Loading data...\")\n",
    "train_df, _ = load_data()\n",
    "logger.info(train_df.columns.values.tolist())\n",
    "y = train_df[\"survived\"]\n",
    "X = train_df.drop(columns=[\"survived\"])\n",
    "\n",
    "logger.info(\"Splitting data into train and validation sets...\")\n",
    "X_train, X_val, y_train, y_val = train_test_split(\n",
    "    X, y, test_size=0.2, random_state=42\n",
    ")\n",
    "\n",
    "logger.info(\"Tuning model...\")\n",
    "best_params, best_score = tune_model(X_train, y_train)\n",
    "logger.info(f\"Best parameters: {best_params}\")\n",
    "logger.info(f\"Best score: {best_score}\")\n",
    "\n",
    "# Train the final version of the model\n",
    "logger.info(\"Training the model with the best parameters...\")\n",
    "pipeline.set_params(**best_params)\n",
    "pipeline.fit(X_train, y_train)\n",
    "\n",
    "logger.info(\"Evaluating the model on the validation set...\")\n",
    "score = pipeline.score(X_val, y_val)\n",
    "logger.info(f\"Validation accuracy: {score}\")\n",
    "\n",
    "logger.info(\"Saving the model...\")\n",
    "dump(pipeline, \"model.joblib\")\n"
   ]
  },
  {
   "cell_type": "code",
   "execution_count": null,
   "id": "6bdf6ff3",
   "metadata": {},
   "outputs": [],
   "source": []
  },
  {
   "cell_type": "code",
   "execution_count": null,
   "id": "2be9ac6d",
   "metadata": {},
   "outputs": [],
   "source": []
  },
  {
   "cell_type": "code",
   "execution_count": null,
   "id": "59abf86a",
   "metadata": {},
   "outputs": [],
   "source": []
  }
 ],
 "metadata": {
  "kernelspec": {
   "display_name": "Python 3 (ipykernel)",
   "language": "python",
   "name": "python3"
  },
  "language_info": {
   "codemirror_mode": {
    "name": "ipython",
    "version": 3
   },
   "file_extension": ".py",
   "mimetype": "text/x-python",
   "name": "python",
   "nbconvert_exporter": "python",
   "pygments_lexer": "ipython3",
   "version": "3.11.3"
  }
 },
 "nbformat": 4,
 "nbformat_minor": 5
}

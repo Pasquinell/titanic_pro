{
 "cells": [
  {
   "cell_type": "code",
   "execution_count": 1,
   "id": "4fd21772",
   "metadata": {},
   "outputs": [],
   "source": [
    "import sys\n",
    "sys.path.append('../')"
   ]
  },
  {
   "cell_type": "code",
   "execution_count": 4,
   "id": "30005bdf",
   "metadata": {},
   "outputs": [],
   "source": [
    "import logging\n",
    "import pandas as pd\n",
    "from titanic_pro.pipeline import pipeline, logger\n",
    "from titanic_pro.train_utils import tune_model\n",
    "from titanic_pro.utils import load_data\n",
    "from sklearn.model_selection import train_test_split\n",
    "from joblib import dump"
   ]
  },
  {
   "cell_type": "code",
   "execution_count": 9,
   "id": "0ecccb3b",
   "metadata": {},
   "outputs": [
    {
     "name": "stderr",
     "output_type": "stream",
     "text": [
      "2023-04-08 12:02:43,865 - INFO - Loading data...\n",
      "2023-04-08 12:02:43,880 - INFO - ['pclass', 'survived', 'name', 'sex', 'age', 'sibsp', 'parch', 'ticket', 'fare', 'cabin', 'embarked', 'boat', 'body', 'home.dest']\n",
      "2023-04-08 12:02:43,880 - INFO - Splitting data into train and validation sets...\n",
      "2023-04-08 12:02:43,880 - INFO - Tuning model...\n"
     ]
    },
    {
     "name": "stdout",
     "output_type": "stream",
     "text": [
      "Fitting 5 folds for each of 27 candidates, totalling 135 fits\n"
     ]
    },
    {
     "name": "stderr",
     "output_type": "stream",
     "text": [
      "2023-04-08 12:02:45,671 - INFO - Best parameters: {'classifier__learning_rate': 0.01, 'classifier__max_depth': 3, 'classifier__n_estimators': 100}\n",
      "2023-04-08 12:02:45,672 - INFO - Best score: 0.8237982663514579\n",
      "2023-04-08 12:02:45,673 - INFO - Training the model with the best parameters...\n",
      "2023-04-08 12:02:45,749 - INFO - Evaluating the model on the validation set...\n",
      "2023-04-08 12:02:45,764 - INFO - Validation accuracy: 0.7966101694915254\n",
      "2023-04-08 12:02:45,765 - INFO - Saving the model...\n"
     ]
    },
    {
     "data": {
      "text/plain": [
       "['model.joblib']"
      ]
     },
     "execution_count": 9,
     "metadata": {},
     "output_type": "execute_result"
    }
   ],
   "source": [
    "logger.info(\"Loading data...\")\n",
    "train_df, _ = load_data()\n",
    "logger.info(train_df.columns.values.tolist())\n",
    "y = train_df[\"survived\"]\n",
    "X = train_df.drop(columns=[\"survived\"])\n",
    "\n",
    "logger.info(\"Splitting data into train and validation sets...\")\n",
    "X_train, X_val, y_train, y_val = train_test_split(\n",
    "    X, y, test_size=0.2, random_state=42\n",
    ")\n",
    "\n",
    "logger.info(\"Tuning model...\")\n",
    "best_params, best_score = tune_model(X_train, y_train)\n",
    "logger.info(f\"Best parameters: {best_params}\")\n",
    "logger.info(f\"Best score: {best_score}\")\n",
    "\n",
    "logger.info(\"Training the model with the best parameters...\")\n",
    "pipeline.set_params(**best_params)\n",
    "pipeline.fit(X_train, y_train)\n",
    "\n",
    "logger.info(\"Evaluating the model on the validation set...\")\n",
    "score = pipeline.score(X_val, y_val)\n",
    "logger.info(f\"Validation accuracy: {score}\")\n",
    "\n",
    "logger.info(\"Saving the model...\")\n",
    "dump(pipeline, \"model.joblib\")\n"
   ]
  },
  {
   "cell_type": "code",
   "execution_count": null,
   "id": "6bdf6ff3",
   "metadata": {},
   "outputs": [],
   "source": []
  }
 ],
 "metadata": {
  "kernelspec": {
   "display_name": "Python 3 (ipykernel)",
   "language": "python",
   "name": "python3"
  },
  "language_info": {
   "codemirror_mode": {
    "name": "ipython",
    "version": 3
   },
   "file_extension": ".py",
   "mimetype": "text/x-python",
   "name": "python",
   "nbconvert_exporter": "python",
   "pygments_lexer": "ipython3",
   "version": "3.11.3"
  }
 },
 "nbformat": 4,
 "nbformat_minor": 5
}
